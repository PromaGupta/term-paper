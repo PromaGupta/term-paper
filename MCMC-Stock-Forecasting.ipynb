{
 "cells": [
  {
   "cell_type": "code",
   "execution_count": 10,
   "id": "cfebb526",
   "metadata": {},
   "outputs": [],
   "source": [
    "import warnings\n",
    "import time\n",
    "import sys\n",
    "import numpy as np\n",
    "import matplotlib.pyplot as plt\n",
    "from hmmlearn import hmm"
   ]
  },
  {
   "cell_type": "code",
   "execution_count": 2,
   "id": "ace2df45",
   "metadata": {},
   "outputs": [],
   "source": [
    "# https://github.com/ayushjain1594/Stock-Forecasting/blob/master/Final_Report.pdf"
   ]
  },
  {
   "cell_type": "code",
   "execution_count": 21,
   "id": "7406677a",
   "metadata": {},
   "outputs": [],
   "source": [
    "import pandas as pd\n",
    "import pandas_datareader.data as web\n",
    "import sklearn.mixture as mix\n",
    "\n",
    "import numpy as np\n",
    "import scipy.stats as scs\n",
    "\n",
    "import matplotlib as mpl\n",
    "from matplotlib import cm\n",
    "import matplotlib.pyplot as plt\n",
    "from matplotlib.dates import YearLocator, MonthLocator\n",
    "%matplotlib inline\n",
    "\n",
    "import seaborn as sns\n",
    "import missingno as msno\n",
    "from tqdm import tqdm\n",
    "p=print"
   ]
  },
  {
   "cell_type": "code",
   "execution_count": 35,
   "id": "d0b24054",
   "metadata": {},
   "outputs": [
    {
     "name": "stderr",
     "output_type": "stream",
     "text": [
      "C:\\Users\\PROMA~1.GUP\\AppData\\Local\\Temp/ipykernel_14480/2667444347.py:2: FutureWarning: The pandas.datetime class is deprecated and will be removed from pandas in a future version. Import from datetime module instead.\n",
      "  end = pd.datetime.today()\n"
     ]
    },
    {
     "data": {
      "text/html": [
       "<div>\n",
       "<style scoped>\n",
       "    .dataframe tbody tr th:only-of-type {\n",
       "        vertical-align: middle;\n",
       "    }\n",
       "\n",
       "    .dataframe tbody tr th {\n",
       "        vertical-align: top;\n",
       "    }\n",
       "\n",
       "    .dataframe thead tr th {\n",
       "        text-align: left;\n",
       "    }\n",
       "\n",
       "    .dataframe thead tr:last-of-type th {\n",
       "        text-align: right;\n",
       "    }\n",
       "</style>\n",
       "<table border=\"1\" class=\"dataframe\">\n",
       "  <thead>\n",
       "    <tr>\n",
       "      <th>Attributes</th>\n",
       "      <th>Adj Close</th>\n",
       "      <th>Close</th>\n",
       "      <th>High</th>\n",
       "      <th>Low</th>\n",
       "      <th>Open</th>\n",
       "      <th>Volume</th>\n",
       "    </tr>\n",
       "    <tr>\n",
       "      <th>Symbols</th>\n",
       "      <th>^GSPC</th>\n",
       "      <th>^GSPC</th>\n",
       "      <th>^GSPC</th>\n",
       "      <th>^GSPC</th>\n",
       "      <th>^GSPC</th>\n",
       "      <th>^GSPC</th>\n",
       "    </tr>\n",
       "    <tr>\n",
       "      <th>Date</th>\n",
       "      <th></th>\n",
       "      <th></th>\n",
       "      <th></th>\n",
       "      <th></th>\n",
       "      <th></th>\n",
       "      <th></th>\n",
       "    </tr>\n",
       "  </thead>\n",
       "  <tbody>\n",
       "    <tr>\n",
       "      <th>2012-01-03</th>\n",
       "      <td>1277.060059</td>\n",
       "      <td>1277.060059</td>\n",
       "      <td>1284.619995</td>\n",
       "      <td>1258.859985</td>\n",
       "      <td>1258.859985</td>\n",
       "      <td>3943710000</td>\n",
       "    </tr>\n",
       "    <tr>\n",
       "      <th>2012-01-04</th>\n",
       "      <td>1277.300049</td>\n",
       "      <td>1277.300049</td>\n",
       "      <td>1278.729980</td>\n",
       "      <td>1268.099976</td>\n",
       "      <td>1277.030029</td>\n",
       "      <td>3592580000</td>\n",
       "    </tr>\n",
       "    <tr>\n",
       "      <th>2012-01-05</th>\n",
       "      <td>1281.060059</td>\n",
       "      <td>1281.060059</td>\n",
       "      <td>1283.050049</td>\n",
       "      <td>1265.260010</td>\n",
       "      <td>1277.300049</td>\n",
       "      <td>4315950000</td>\n",
       "    </tr>\n",
       "    <tr>\n",
       "      <th>2012-01-06</th>\n",
       "      <td>1277.810059</td>\n",
       "      <td>1277.810059</td>\n",
       "      <td>1281.839966</td>\n",
       "      <td>1273.339966</td>\n",
       "      <td>1280.930054</td>\n",
       "      <td>3656830000</td>\n",
       "    </tr>\n",
       "    <tr>\n",
       "      <th>2012-01-09</th>\n",
       "      <td>1280.699951</td>\n",
       "      <td>1280.699951</td>\n",
       "      <td>1281.989990</td>\n",
       "      <td>1274.550049</td>\n",
       "      <td>1277.829956</td>\n",
       "      <td>3371600000</td>\n",
       "    </tr>\n",
       "    <tr>\n",
       "      <th>...</th>\n",
       "      <td>...</td>\n",
       "      <td>...</td>\n",
       "      <td>...</td>\n",
       "      <td>...</td>\n",
       "      <td>...</td>\n",
       "      <td>...</td>\n",
       "    </tr>\n",
       "    <tr>\n",
       "      <th>2022-04-22</th>\n",
       "      <td>4271.779785</td>\n",
       "      <td>4271.779785</td>\n",
       "      <td>4385.830078</td>\n",
       "      <td>4267.620117</td>\n",
       "      <td>4385.830078</td>\n",
       "      <td>3930660000</td>\n",
       "    </tr>\n",
       "    <tr>\n",
       "      <th>2022-04-25</th>\n",
       "      <td>4296.120117</td>\n",
       "      <td>4296.120117</td>\n",
       "      <td>4299.020020</td>\n",
       "      <td>4200.819824</td>\n",
       "      <td>4255.339844</td>\n",
       "      <td>4061070000</td>\n",
       "    </tr>\n",
       "    <tr>\n",
       "      <th>2022-04-26</th>\n",
       "      <td>4175.200195</td>\n",
       "      <td>4175.200195</td>\n",
       "      <td>4278.140137</td>\n",
       "      <td>4175.040039</td>\n",
       "      <td>4278.140137</td>\n",
       "      <td>3760420000</td>\n",
       "    </tr>\n",
       "    <tr>\n",
       "      <th>2022-04-27</th>\n",
       "      <td>4183.959961</td>\n",
       "      <td>4183.959961</td>\n",
       "      <td>4240.709961</td>\n",
       "      <td>4162.899902</td>\n",
       "      <td>4186.520020</td>\n",
       "      <td>3876340000</td>\n",
       "    </tr>\n",
       "    <tr>\n",
       "      <th>2022-04-28</th>\n",
       "      <td>4295.479980</td>\n",
       "      <td>4295.479980</td>\n",
       "      <td>4303.879883</td>\n",
       "      <td>4188.629883</td>\n",
       "      <td>4222.580078</td>\n",
       "      <td>1891990000</td>\n",
       "    </tr>\n",
       "  </tbody>\n",
       "</table>\n",
       "<p>2598 rows × 6 columns</p>\n",
       "</div>"
      ],
      "text/plain": [
       "Attributes    Adj Close        Close         High          Low         Open  \\\n",
       "Symbols           ^GSPC        ^GSPC        ^GSPC        ^GSPC        ^GSPC   \n",
       "Date                                                                          \n",
       "2012-01-03  1277.060059  1277.060059  1284.619995  1258.859985  1258.859985   \n",
       "2012-01-04  1277.300049  1277.300049  1278.729980  1268.099976  1277.030029   \n",
       "2012-01-05  1281.060059  1281.060059  1283.050049  1265.260010  1277.300049   \n",
       "2012-01-06  1277.810059  1277.810059  1281.839966  1273.339966  1280.930054   \n",
       "2012-01-09  1280.699951  1280.699951  1281.989990  1274.550049  1277.829956   \n",
       "...                 ...          ...          ...          ...          ...   \n",
       "2022-04-22  4271.779785  4271.779785  4385.830078  4267.620117  4385.830078   \n",
       "2022-04-25  4296.120117  4296.120117  4299.020020  4200.819824  4255.339844   \n",
       "2022-04-26  4175.200195  4175.200195  4278.140137  4175.040039  4278.140137   \n",
       "2022-04-27  4183.959961  4183.959961  4240.709961  4162.899902  4186.520020   \n",
       "2022-04-28  4295.479980  4295.479980  4303.879883  4188.629883  4222.580078   \n",
       "\n",
       "Attributes      Volume  \n",
       "Symbols          ^GSPC  \n",
       "Date                    \n",
       "2012-01-03  3943710000  \n",
       "2012-01-04  3592580000  \n",
       "2012-01-05  4315950000  \n",
       "2012-01-06  3656830000  \n",
       "2012-01-09  3371600000  \n",
       "...                ...  \n",
       "2022-04-22  3930660000  \n",
       "2022-04-25  4061070000  \n",
       "2022-04-26  3760420000  \n",
       "2022-04-27  3876340000  \n",
       "2022-04-28  1891990000  \n",
       "\n",
       "[2598 rows x 6 columns]"
      ]
     },
     "execution_count": 35,
     "metadata": {},
     "output_type": "execute_result"
    }
   ],
   "source": [
    "start = pd.to_datetime('2012-01-01')\n",
    "end = pd.datetime.today()\n",
    "\n",
    "mkt = '^GSPC'\n",
    "data = web.DataReader([mkt], 'yahoo', start, end)\n",
    "data\n"
   ]
  },
  {
   "cell_type": "code",
   "execution_count": 37,
   "id": "b2e69a85",
   "metadata": {},
   "outputs": [],
   "source": [
    "import pandas as pd\n",
    "import numpy as np\n",
    "import yfinance as yf"
   ]
  },
  {
   "cell_type": "code",
   "execution_count": 68,
   "id": "74f213d1",
   "metadata": {},
   "outputs": [
    {
     "name": "stdout",
     "output_type": "stream",
     "text": [
      "[*********************100%***********************]  1 of 1 completed\n"
     ]
    },
    {
     "data": {
      "text/html": [
       "<div>\n",
       "<style scoped>\n",
       "    .dataframe tbody tr th:only-of-type {\n",
       "        vertical-align: middle;\n",
       "    }\n",
       "\n",
       "    .dataframe tbody tr th {\n",
       "        vertical-align: top;\n",
       "    }\n",
       "\n",
       "    .dataframe thead th {\n",
       "        text-align: right;\n",
       "    }\n",
       "</style>\n",
       "<table border=\"1\" class=\"dataframe\">\n",
       "  <thead>\n",
       "    <tr style=\"text-align: right;\">\n",
       "      <th></th>\n",
       "      <th>Open</th>\n",
       "      <th>High</th>\n",
       "      <th>Low</th>\n",
       "      <th>Close</th>\n",
       "      <th>Adj Close</th>\n",
       "      <th>Volume</th>\n",
       "    </tr>\n",
       "    <tr>\n",
       "      <th>Date</th>\n",
       "      <th></th>\n",
       "      <th></th>\n",
       "      <th></th>\n",
       "      <th></th>\n",
       "      <th></th>\n",
       "      <th></th>\n",
       "    </tr>\n",
       "  </thead>\n",
       "  <tbody>\n",
       "    <tr>\n",
       "      <th>1950-01-03</th>\n",
       "      <td>16.660000</td>\n",
       "      <td>16.660000</td>\n",
       "      <td>16.660000</td>\n",
       "      <td>16.660000</td>\n",
       "      <td>16.660000</td>\n",
       "      <td>1260000</td>\n",
       "    </tr>\n",
       "    <tr>\n",
       "      <th>1950-01-04</th>\n",
       "      <td>16.850000</td>\n",
       "      <td>16.850000</td>\n",
       "      <td>16.850000</td>\n",
       "      <td>16.850000</td>\n",
       "      <td>16.850000</td>\n",
       "      <td>1890000</td>\n",
       "    </tr>\n",
       "    <tr>\n",
       "      <th>1950-01-05</th>\n",
       "      <td>16.930000</td>\n",
       "      <td>16.930000</td>\n",
       "      <td>16.930000</td>\n",
       "      <td>16.930000</td>\n",
       "      <td>16.930000</td>\n",
       "      <td>2550000</td>\n",
       "    </tr>\n",
       "    <tr>\n",
       "      <th>1950-01-06</th>\n",
       "      <td>16.980000</td>\n",
       "      <td>16.980000</td>\n",
       "      <td>16.980000</td>\n",
       "      <td>16.980000</td>\n",
       "      <td>16.980000</td>\n",
       "      <td>2010000</td>\n",
       "    </tr>\n",
       "    <tr>\n",
       "      <th>1950-01-09</th>\n",
       "      <td>17.080000</td>\n",
       "      <td>17.080000</td>\n",
       "      <td>17.080000</td>\n",
       "      <td>17.080000</td>\n",
       "      <td>17.080000</td>\n",
       "      <td>2520000</td>\n",
       "    </tr>\n",
       "    <tr>\n",
       "      <th>...</th>\n",
       "      <td>...</td>\n",
       "      <td>...</td>\n",
       "      <td>...</td>\n",
       "      <td>...</td>\n",
       "      <td>...</td>\n",
       "      <td>...</td>\n",
       "    </tr>\n",
       "    <tr>\n",
       "      <th>2022-04-22</th>\n",
       "      <td>4385.830078</td>\n",
       "      <td>4385.830078</td>\n",
       "      <td>4267.620117</td>\n",
       "      <td>4271.779785</td>\n",
       "      <td>4271.779785</td>\n",
       "      <td>3930660000</td>\n",
       "    </tr>\n",
       "    <tr>\n",
       "      <th>2022-04-25</th>\n",
       "      <td>4255.339844</td>\n",
       "      <td>4299.020020</td>\n",
       "      <td>4200.819824</td>\n",
       "      <td>4296.120117</td>\n",
       "      <td>4296.120117</td>\n",
       "      <td>4061070000</td>\n",
       "    </tr>\n",
       "    <tr>\n",
       "      <th>2022-04-26</th>\n",
       "      <td>4278.140137</td>\n",
       "      <td>4278.140137</td>\n",
       "      <td>4175.040039</td>\n",
       "      <td>4175.200195</td>\n",
       "      <td>4175.200195</td>\n",
       "      <td>3760420000</td>\n",
       "    </tr>\n",
       "    <tr>\n",
       "      <th>2022-04-27</th>\n",
       "      <td>4186.520020</td>\n",
       "      <td>4240.709961</td>\n",
       "      <td>4162.899902</td>\n",
       "      <td>4183.959961</td>\n",
       "      <td>4183.959961</td>\n",
       "      <td>3876340000</td>\n",
       "    </tr>\n",
       "    <tr>\n",
       "      <th>2022-04-28</th>\n",
       "      <td>4222.580078</td>\n",
       "      <td>4303.879883</td>\n",
       "      <td>4188.629883</td>\n",
       "      <td>4303.250000</td>\n",
       "      <td>4303.250000</td>\n",
       "      <td>1992967000</td>\n",
       "    </tr>\n",
       "  </tbody>\n",
       "</table>\n",
       "<p>18199 rows × 6 columns</p>\n",
       "</div>"
      ],
      "text/plain": [
       "                   Open         High          Low        Close    Adj Close  \\\n",
       "Date                                                                          \n",
       "1950-01-03    16.660000    16.660000    16.660000    16.660000    16.660000   \n",
       "1950-01-04    16.850000    16.850000    16.850000    16.850000    16.850000   \n",
       "1950-01-05    16.930000    16.930000    16.930000    16.930000    16.930000   \n",
       "1950-01-06    16.980000    16.980000    16.980000    16.980000    16.980000   \n",
       "1950-01-09    17.080000    17.080000    17.080000    17.080000    17.080000   \n",
       "...                 ...          ...          ...          ...          ...   \n",
       "2022-04-22  4385.830078  4385.830078  4267.620117  4271.779785  4271.779785   \n",
       "2022-04-25  4255.339844  4299.020020  4200.819824  4296.120117  4296.120117   \n",
       "2022-04-26  4278.140137  4278.140137  4175.040039  4175.200195  4175.200195   \n",
       "2022-04-27  4186.520020  4240.709961  4162.899902  4183.959961  4183.959961   \n",
       "2022-04-28  4222.580078  4303.879883  4188.629883  4303.250000  4303.250000   \n",
       "\n",
       "                Volume  \n",
       "Date                    \n",
       "1950-01-03     1260000  \n",
       "1950-01-04     1890000  \n",
       "1950-01-05     2550000  \n",
       "1950-01-06     2010000  \n",
       "1950-01-09     2520000  \n",
       "...                ...  \n",
       "2022-04-22  3930660000  \n",
       "2022-04-25  4061070000  \n",
       "2022-04-26  3760420000  \n",
       "2022-04-27  3876340000  \n",
       "2022-04-28  1992967000  \n",
       "\n",
       "[18199 rows x 6 columns]"
      ]
     },
     "execution_count": 68,
     "metadata": {},
     "output_type": "execute_result"
    }
   ],
   "source": [
    "df1 = yf.download('^GSPC', start_data='2012-01-01', end_date='2022-4-28')\n",
    "df1"
   ]
  },
  {
   "cell_type": "code",
   "execution_count": 55,
   "id": "6da22287",
   "metadata": {},
   "outputs": [],
   "source": [
    "df.to_csv(\"GSPC.csv\")"
   ]
  },
  {
   "cell_type": "code",
   "execution_count": 69,
   "id": "d8f1e0d1",
   "metadata": {},
   "outputs": [],
   "source": [
    "df = pd.read_csv(\"GSPC-1.csv\")"
   ]
  },
  {
   "cell_type": "code",
   "execution_count": null,
   "id": "36f3d254",
   "metadata": {},
   "outputs": [],
   "source": []
  },
  {
   "cell_type": "code",
   "execution_count": null,
   "id": "9a8927bf",
   "metadata": {},
   "outputs": [],
   "source": []
  },
  {
   "cell_type": "code",
   "execution_count": null,
   "id": "08775a76",
   "metadata": {},
   "outputs": [],
   "source": []
  },
  {
   "cell_type": "code",
   "execution_count": null,
   "id": "1cc2fe3a",
   "metadata": {},
   "outputs": [],
   "source": []
  },
  {
   "cell_type": "code",
   "execution_count": null,
   "id": "ed7c827b",
   "metadata": {},
   "outputs": [],
   "source": []
  },
  {
   "cell_type": "code",
   "execution_count": null,
   "id": "d6172b8f",
   "metadata": {},
   "outputs": [],
   "source": []
  },
  {
   "cell_type": "code",
   "execution_count": null,
   "id": "aa413de8",
   "metadata": {},
   "outputs": [],
   "source": []
  },
  {
   "cell_type": "code",
   "execution_count": 70,
   "id": "24758f8d",
   "metadata": {},
   "outputs": [],
   "source": [
    "warnings.filterwarnings(\"ignore\", category=DeprecationWarning)\n",
    "\n",
    "PLOT_SHOW=True\n",
    "PLOT_TYPE = False\n",
    "\n",
    "NUM_TEST = 100\n",
    "K = 50\n",
    "NUM_ITERS=10000\n",
    "\n",
    "STOCKS= df\n",
    "\n",
    "NUM_STATES=12\n",
    "FILE_NAME='HistoricalQuotes.csv'\n",
    "TRAIN_CHUNK_SIZE=100"
   ]
  },
  {
   "cell_type": "code",
   "execution_count": 71,
   "id": "1200dc4b",
   "metadata": {},
   "outputs": [],
   "source": [
    "dirichlet_params = np.array([1., 20., 20., 20.])\n",
    "dirichlet_params = np.random.randint(1,50,NUM_STATES)\n",
    "labels = ['Close','Open','High','Low']\n",
    "likelihood_vect = np.empty([0,1])\n",
    "aic_vect = np.empty([0,1])\n",
    "bic_vect = np.empty([0,1])"
   ]
  },
  {
   "cell_type": "code",
   "execution_count": 72,
   "id": "8e7b27b9",
   "metadata": {},
   "outputs": [
    {
     "name": "stdout",
     "output_type": "stream",
     "text": [
      "[ 1. 20. 20. 20.]\n"
     ]
    }
   ],
   "source": [
    "dirichlet_params = np.array([1., 20., 20., 20.])\n",
    "print(dirichlet_params)"
   ]
  },
  {
   "cell_type": "code",
   "execution_count": 73,
   "id": "c6d5161f",
   "metadata": {},
   "outputs": [
    {
     "name": "stdout",
     "output_type": "stream",
     "text": [
      "[29 15 22 47 36 39 28 30 34 21 44 43]\n"
     ]
    }
   ],
   "source": [
    "dirichlet_params = np.random.randint(1,50,NUM_STATES)\n",
    "print(dirichlet_params)"
   ]
  },
  {
   "cell_type": "code",
   "execution_count": 74,
   "id": "ac551131",
   "metadata": {},
   "outputs": [
    {
     "name": "stdout",
     "output_type": "stream",
     "text": [
      "[]\n"
     ]
    }
   ],
   "source": [
    "labels = ['Close','Open','High','Low']\n",
    "likelihood_vect = np.empty([0,1])\n",
    "print(likelihood_vect)"
   ]
  },
  {
   "cell_type": "code",
   "execution_count": 75,
   "id": "d99b8cb0",
   "metadata": {},
   "outputs": [
    {
     "name": "stdout",
     "output_type": "stream",
     "text": [
      "[]\n",
      "[]\n"
     ]
    }
   ],
   "source": [
    "aic_vect = np.empty([0,1])\n",
    "bic_vect = np.empty([0,1])\n",
    "print(aic_vect)\n",
    "print(bic_vect)"
   ]
  },
  {
   "cell_type": "code",
   "execution_count": 76,
   "id": "405e9c6d",
   "metadata": {},
   "outputs": [],
   "source": [
    "# Possible number of states in Markov Model\n",
    "STATE_SPACE = range(2,15)\n",
    "\n",
    "# Calculating Mean Absolute Percentage Error of predictions\n",
    "def calc_mape(predicted_data, true_data):\n",
    "    return np.divide(np.sum(np.divide(np.absolute(predicted_data - true_data), true_data), 0), true_data.shape[0])"
   ]
  },
  {
   "cell_type": "code",
   "execution_count": 77,
   "id": "af9a8c9b",
   "metadata": {},
   "outputs": [
    {
     "ename": "OSError",
     "evalue": "1372.109985 not found.",
     "output_type": "error",
     "traceback": [
      "\u001b[1;31m---------------------------------------------------------------------------\u001b[0m",
      "\u001b[1;31mOSError\u001b[0m                                   Traceback (most recent call last)",
      "\u001b[1;32mC:\\Users\\PROMA~1.GUP\\AppData\\Local\\Temp/ipykernel_14480/2908883082.py\u001b[0m in \u001b[0;36m<module>\u001b[1;34m\u001b[0m\n\u001b[0;32m      1\u001b[0m \u001b[1;32mfor\u001b[0m \u001b[0mstock\u001b[0m \u001b[1;32min\u001b[0m \u001b[0mSTOCKS\u001b[0m\u001b[1;33m:\u001b[0m\u001b[1;33m\u001b[0m\u001b[1;33m\u001b[0m\u001b[0m\n\u001b[1;32m----> 2\u001b[1;33m     \u001b[0mdataset\u001b[0m \u001b[1;33m=\u001b[0m \u001b[0mnp\u001b[0m\u001b[1;33m.\u001b[0m\u001b[0mgenfromtxt\u001b[0m\u001b[1;33m(\u001b[0m\u001b[0mstock\u001b[0m\u001b[1;33m,\u001b[0m \u001b[0mdelimiter\u001b[0m\u001b[1;33m=\u001b[0m\u001b[1;34m','\u001b[0m\u001b[1;33m)\u001b[0m\u001b[1;33m\u001b[0m\u001b[1;33m\u001b[0m\u001b[0m\n\u001b[0m\u001b[0;32m      3\u001b[0m     \u001b[0mpredicted_stock_data\u001b[0m \u001b[1;33m=\u001b[0m \u001b[0mnp\u001b[0m\u001b[1;33m.\u001b[0m\u001b[0mempty\u001b[0m\u001b[1;33m(\u001b[0m\u001b[1;33m[\u001b[0m\u001b[1;36m0\u001b[0m\u001b[1;33m,\u001b[0m\u001b[0mdataset\u001b[0m\u001b[1;33m.\u001b[0m\u001b[0mshape\u001b[0m\u001b[1;33m[\u001b[0m\u001b[1;36m1\u001b[0m\u001b[1;33m]\u001b[0m\u001b[1;33m]\u001b[0m\u001b[1;33m)\u001b[0m\u001b[1;33m\u001b[0m\u001b[1;33m\u001b[0m\u001b[0m\n\u001b[0;32m      4\u001b[0m     \u001b[0mlikelihood_vect\u001b[0m \u001b[1;33m=\u001b[0m \u001b[0mnp\u001b[0m\u001b[1;33m.\u001b[0m\u001b[0mempty\u001b[0m\u001b[1;33m(\u001b[0m\u001b[1;33m[\u001b[0m\u001b[1;36m0\u001b[0m\u001b[1;33m,\u001b[0m\u001b[1;36m1\u001b[0m\u001b[1;33m]\u001b[0m\u001b[1;33m)\u001b[0m\u001b[1;33m\u001b[0m\u001b[1;33m\u001b[0m\u001b[0m\n\u001b[0;32m      5\u001b[0m     \u001b[0maic_vect\u001b[0m \u001b[1;33m=\u001b[0m \u001b[0mnp\u001b[0m\u001b[1;33m.\u001b[0m\u001b[0mempty\u001b[0m\u001b[1;33m(\u001b[0m\u001b[1;33m[\u001b[0m\u001b[1;36m0\u001b[0m\u001b[1;33m,\u001b[0m\u001b[1;36m1\u001b[0m\u001b[1;33m]\u001b[0m\u001b[1;33m)\u001b[0m\u001b[1;33m\u001b[0m\u001b[1;33m\u001b[0m\u001b[0m\n",
      "\u001b[1;32m~\\Anaconda3\\lib\\site-packages\\numpy\\lib\\npyio.py\u001b[0m in \u001b[0;36mgenfromtxt\u001b[1;34m(fname, dtype, comments, delimiter, skip_header, skip_footer, converters, missing_values, filling_values, usecols, names, excludelist, deletechars, replace_space, autostrip, case_sensitive, defaultfmt, unpack, usemask, loose, invalid_raise, max_rows, encoding, like)\u001b[0m\n\u001b[0;32m   1789\u001b[0m             \u001b[0mfname\u001b[0m \u001b[1;33m=\u001b[0m \u001b[0mos_fspath\u001b[0m\u001b[1;33m(\u001b[0m\u001b[0mfname\u001b[0m\u001b[1;33m)\u001b[0m\u001b[1;33m\u001b[0m\u001b[1;33m\u001b[0m\u001b[0m\n\u001b[0;32m   1790\u001b[0m         \u001b[1;32mif\u001b[0m \u001b[0misinstance\u001b[0m\u001b[1;33m(\u001b[0m\u001b[0mfname\u001b[0m\u001b[1;33m,\u001b[0m \u001b[0mstr\u001b[0m\u001b[1;33m)\u001b[0m\u001b[1;33m:\u001b[0m\u001b[1;33m\u001b[0m\u001b[1;33m\u001b[0m\u001b[0m\n\u001b[1;32m-> 1791\u001b[1;33m             \u001b[0mfid\u001b[0m \u001b[1;33m=\u001b[0m \u001b[0mnp\u001b[0m\u001b[1;33m.\u001b[0m\u001b[0mlib\u001b[0m\u001b[1;33m.\u001b[0m\u001b[0m_datasource\u001b[0m\u001b[1;33m.\u001b[0m\u001b[0mopen\u001b[0m\u001b[1;33m(\u001b[0m\u001b[0mfname\u001b[0m\u001b[1;33m,\u001b[0m \u001b[1;34m'rt'\u001b[0m\u001b[1;33m,\u001b[0m \u001b[0mencoding\u001b[0m\u001b[1;33m=\u001b[0m\u001b[0mencoding\u001b[0m\u001b[1;33m)\u001b[0m\u001b[1;33m\u001b[0m\u001b[1;33m\u001b[0m\u001b[0m\n\u001b[0m\u001b[0;32m   1792\u001b[0m             \u001b[0mfid_ctx\u001b[0m \u001b[1;33m=\u001b[0m \u001b[0mcontextlib\u001b[0m\u001b[1;33m.\u001b[0m\u001b[0mclosing\u001b[0m\u001b[1;33m(\u001b[0m\u001b[0mfid\u001b[0m\u001b[1;33m)\u001b[0m\u001b[1;33m\u001b[0m\u001b[1;33m\u001b[0m\u001b[0m\n\u001b[0;32m   1793\u001b[0m         \u001b[1;32melse\u001b[0m\u001b[1;33m:\u001b[0m\u001b[1;33m\u001b[0m\u001b[1;33m\u001b[0m\u001b[0m\n",
      "\u001b[1;32m~\\Anaconda3\\lib\\site-packages\\numpy\\lib\\_datasource.py\u001b[0m in \u001b[0;36mopen\u001b[1;34m(path, mode, destpath, encoding, newline)\u001b[0m\n\u001b[0;32m    192\u001b[0m \u001b[1;33m\u001b[0m\u001b[0m\n\u001b[0;32m    193\u001b[0m     \u001b[0mds\u001b[0m \u001b[1;33m=\u001b[0m \u001b[0mDataSource\u001b[0m\u001b[1;33m(\u001b[0m\u001b[0mdestpath\u001b[0m\u001b[1;33m)\u001b[0m\u001b[1;33m\u001b[0m\u001b[1;33m\u001b[0m\u001b[0m\n\u001b[1;32m--> 194\u001b[1;33m     \u001b[1;32mreturn\u001b[0m \u001b[0mds\u001b[0m\u001b[1;33m.\u001b[0m\u001b[0mopen\u001b[0m\u001b[1;33m(\u001b[0m\u001b[0mpath\u001b[0m\u001b[1;33m,\u001b[0m \u001b[0mmode\u001b[0m\u001b[1;33m,\u001b[0m \u001b[0mencoding\u001b[0m\u001b[1;33m=\u001b[0m\u001b[0mencoding\u001b[0m\u001b[1;33m,\u001b[0m \u001b[0mnewline\u001b[0m\u001b[1;33m=\u001b[0m\u001b[0mnewline\u001b[0m\u001b[1;33m)\u001b[0m\u001b[1;33m\u001b[0m\u001b[1;33m\u001b[0m\u001b[0m\n\u001b[0m\u001b[0;32m    195\u001b[0m \u001b[1;33m\u001b[0m\u001b[0m\n\u001b[0;32m    196\u001b[0m \u001b[1;33m\u001b[0m\u001b[0m\n",
      "\u001b[1;32m~\\Anaconda3\\lib\\site-packages\\numpy\\lib\\_datasource.py\u001b[0m in \u001b[0;36mopen\u001b[1;34m(self, path, mode, encoding, newline)\u001b[0m\n\u001b[0;32m    529\u001b[0m                                       encoding=encoding, newline=newline)\n\u001b[0;32m    530\u001b[0m         \u001b[1;32melse\u001b[0m\u001b[1;33m:\u001b[0m\u001b[1;33m\u001b[0m\u001b[1;33m\u001b[0m\u001b[0m\n\u001b[1;32m--> 531\u001b[1;33m             \u001b[1;32mraise\u001b[0m \u001b[0mIOError\u001b[0m\u001b[1;33m(\u001b[0m\u001b[1;34m\"%s not found.\"\u001b[0m \u001b[1;33m%\u001b[0m \u001b[0mpath\u001b[0m\u001b[1;33m)\u001b[0m\u001b[1;33m\u001b[0m\u001b[1;33m\u001b[0m\u001b[0m\n\u001b[0m\u001b[0;32m    532\u001b[0m \u001b[1;33m\u001b[0m\u001b[0m\n\u001b[0;32m    533\u001b[0m \u001b[1;33m\u001b[0m\u001b[0m\n",
      "\u001b[1;31mOSError\u001b[0m: 1372.109985 not found."
     ]
    }
   ],
   "source": [
    "for stock in STOCKS:\n",
    "    dataset = np.genfromtxt(stock, delimiter=',')\n",
    "    predicted_stock_data = np.empty([0,dataset.shape[1]])\n",
    "    likelihood_vect = np.empty([0,1])\n",
    "    aic_vect = np.empty([0,1])\n",
    "    bic_vect = np.empty([0,1])\n",
    "    for states in STATE_SPACE:\n",
    "        num_params = states**2 + states\n",
    "        dirichlet_params_states = np.random.randint(1,50,states)\n",
    "        #model = hmm.GaussianHMM(n_components=states, covariance_type='full', startprob_prior=dirichlet_params_states, transmat_prior=dirichlet_params_states, tol=0.0001, n_iter=NUM_ITERS, init_params='mc')\n",
    "        model = hmm.GaussianHMM(n_components=states, covariance_type='full', tol=0.0001, n_iter=NUM_ITERS)\n",
    "        model.fit(dataset[NUM_TEST:,:])\n",
    "        if model.monitor_.iter == NUM_ITERS:\n",
    "            print('Increase number of iterations')"
   ]
  },
  {
   "cell_type": "code",
   "execution_count": 78,
   "id": "e35bf3f2",
   "metadata": {},
   "outputs": [
    {
     "ename": "OSError",
     "evalue": "1372.109985 not found.",
     "output_type": "error",
     "traceback": [
      "\u001b[1;31m---------------------------------------------------------------------------\u001b[0m",
      "\u001b[1;31mOSError\u001b[0m                                   Traceback (most recent call last)",
      "\u001b[1;32mC:\\Users\\PROMA~1.GUP\\AppData\\Local\\Temp/ipykernel_14480/1556269264.py\u001b[0m in \u001b[0;36m<module>\u001b[1;34m\u001b[0m\n\u001b[0;32m      1\u001b[0m \u001b[1;32mfor\u001b[0m \u001b[0mstock\u001b[0m \u001b[1;32min\u001b[0m \u001b[0mSTOCKS\u001b[0m\u001b[1;33m:\u001b[0m\u001b[1;33m\u001b[0m\u001b[1;33m\u001b[0m\u001b[0m\n\u001b[1;32m----> 2\u001b[1;33m     \u001b[0mdataset\u001b[0m \u001b[1;33m=\u001b[0m \u001b[0mnp\u001b[0m\u001b[1;33m.\u001b[0m\u001b[0mgenfromtxt\u001b[0m\u001b[1;33m(\u001b[0m\u001b[0mstock\u001b[0m\u001b[1;33m,\u001b[0m \u001b[0mdelimiter\u001b[0m\u001b[1;33m=\u001b[0m\u001b[1;34m','\u001b[0m\u001b[1;33m)\u001b[0m\u001b[1;33m\u001b[0m\u001b[1;33m\u001b[0m\u001b[0m\n\u001b[0m\u001b[0;32m      3\u001b[0m     \u001b[0mpredicted_stock_data\u001b[0m \u001b[1;33m=\u001b[0m \u001b[0mnp\u001b[0m\u001b[1;33m.\u001b[0m\u001b[0mempty\u001b[0m\u001b[1;33m(\u001b[0m\u001b[1;33m[\u001b[0m\u001b[1;36m0\u001b[0m\u001b[1;33m,\u001b[0m\u001b[0mdataset\u001b[0m\u001b[1;33m.\u001b[0m\u001b[0mshape\u001b[0m\u001b[1;33m[\u001b[0m\u001b[1;36m1\u001b[0m\u001b[1;33m]\u001b[0m\u001b[1;33m]\u001b[0m\u001b[1;33m)\u001b[0m\u001b[1;33m\u001b[0m\u001b[1;33m\u001b[0m\u001b[0m\n\u001b[0;32m      4\u001b[0m     \u001b[0mlikelihood_vect\u001b[0m \u001b[1;33m=\u001b[0m \u001b[0mnp\u001b[0m\u001b[1;33m.\u001b[0m\u001b[0mempty\u001b[0m\u001b[1;33m(\u001b[0m\u001b[1;33m[\u001b[0m\u001b[1;36m0\u001b[0m\u001b[1;33m,\u001b[0m\u001b[1;36m1\u001b[0m\u001b[1;33m]\u001b[0m\u001b[1;33m)\u001b[0m\u001b[1;33m\u001b[0m\u001b[1;33m\u001b[0m\u001b[0m\n\u001b[0;32m      5\u001b[0m     \u001b[0maic_vect\u001b[0m \u001b[1;33m=\u001b[0m \u001b[0mnp\u001b[0m\u001b[1;33m.\u001b[0m\u001b[0mempty\u001b[0m\u001b[1;33m(\u001b[0m\u001b[1;33m[\u001b[0m\u001b[1;36m0\u001b[0m\u001b[1;33m,\u001b[0m\u001b[1;36m1\u001b[0m\u001b[1;33m]\u001b[0m\u001b[1;33m)\u001b[0m\u001b[1;33m\u001b[0m\u001b[1;33m\u001b[0m\u001b[0m\n",
      "\u001b[1;32m~\\Anaconda3\\lib\\site-packages\\numpy\\lib\\npyio.py\u001b[0m in \u001b[0;36mgenfromtxt\u001b[1;34m(fname, dtype, comments, delimiter, skip_header, skip_footer, converters, missing_values, filling_values, usecols, names, excludelist, deletechars, replace_space, autostrip, case_sensitive, defaultfmt, unpack, usemask, loose, invalid_raise, max_rows, encoding, like)\u001b[0m\n\u001b[0;32m   1789\u001b[0m             \u001b[0mfname\u001b[0m \u001b[1;33m=\u001b[0m \u001b[0mos_fspath\u001b[0m\u001b[1;33m(\u001b[0m\u001b[0mfname\u001b[0m\u001b[1;33m)\u001b[0m\u001b[1;33m\u001b[0m\u001b[1;33m\u001b[0m\u001b[0m\n\u001b[0;32m   1790\u001b[0m         \u001b[1;32mif\u001b[0m \u001b[0misinstance\u001b[0m\u001b[1;33m(\u001b[0m\u001b[0mfname\u001b[0m\u001b[1;33m,\u001b[0m \u001b[0mstr\u001b[0m\u001b[1;33m)\u001b[0m\u001b[1;33m:\u001b[0m\u001b[1;33m\u001b[0m\u001b[1;33m\u001b[0m\u001b[0m\n\u001b[1;32m-> 1791\u001b[1;33m             \u001b[0mfid\u001b[0m \u001b[1;33m=\u001b[0m \u001b[0mnp\u001b[0m\u001b[1;33m.\u001b[0m\u001b[0mlib\u001b[0m\u001b[1;33m.\u001b[0m\u001b[0m_datasource\u001b[0m\u001b[1;33m.\u001b[0m\u001b[0mopen\u001b[0m\u001b[1;33m(\u001b[0m\u001b[0mfname\u001b[0m\u001b[1;33m,\u001b[0m \u001b[1;34m'rt'\u001b[0m\u001b[1;33m,\u001b[0m \u001b[0mencoding\u001b[0m\u001b[1;33m=\u001b[0m\u001b[0mencoding\u001b[0m\u001b[1;33m)\u001b[0m\u001b[1;33m\u001b[0m\u001b[1;33m\u001b[0m\u001b[0m\n\u001b[0m\u001b[0;32m   1792\u001b[0m             \u001b[0mfid_ctx\u001b[0m \u001b[1;33m=\u001b[0m \u001b[0mcontextlib\u001b[0m\u001b[1;33m.\u001b[0m\u001b[0mclosing\u001b[0m\u001b[1;33m(\u001b[0m\u001b[0mfid\u001b[0m\u001b[1;33m)\u001b[0m\u001b[1;33m\u001b[0m\u001b[1;33m\u001b[0m\u001b[0m\n\u001b[0;32m   1793\u001b[0m         \u001b[1;32melse\u001b[0m\u001b[1;33m:\u001b[0m\u001b[1;33m\u001b[0m\u001b[1;33m\u001b[0m\u001b[0m\n",
      "\u001b[1;32m~\\Anaconda3\\lib\\site-packages\\numpy\\lib\\_datasource.py\u001b[0m in \u001b[0;36mopen\u001b[1;34m(path, mode, destpath, encoding, newline)\u001b[0m\n\u001b[0;32m    192\u001b[0m \u001b[1;33m\u001b[0m\u001b[0m\n\u001b[0;32m    193\u001b[0m     \u001b[0mds\u001b[0m \u001b[1;33m=\u001b[0m \u001b[0mDataSource\u001b[0m\u001b[1;33m(\u001b[0m\u001b[0mdestpath\u001b[0m\u001b[1;33m)\u001b[0m\u001b[1;33m\u001b[0m\u001b[1;33m\u001b[0m\u001b[0m\n\u001b[1;32m--> 194\u001b[1;33m     \u001b[1;32mreturn\u001b[0m \u001b[0mds\u001b[0m\u001b[1;33m.\u001b[0m\u001b[0mopen\u001b[0m\u001b[1;33m(\u001b[0m\u001b[0mpath\u001b[0m\u001b[1;33m,\u001b[0m \u001b[0mmode\u001b[0m\u001b[1;33m,\u001b[0m \u001b[0mencoding\u001b[0m\u001b[1;33m=\u001b[0m\u001b[0mencoding\u001b[0m\u001b[1;33m,\u001b[0m \u001b[0mnewline\u001b[0m\u001b[1;33m=\u001b[0m\u001b[0mnewline\u001b[0m\u001b[1;33m)\u001b[0m\u001b[1;33m\u001b[0m\u001b[1;33m\u001b[0m\u001b[0m\n\u001b[0m\u001b[0;32m    195\u001b[0m \u001b[1;33m\u001b[0m\u001b[0m\n\u001b[0;32m    196\u001b[0m \u001b[1;33m\u001b[0m\u001b[0m\n",
      "\u001b[1;32m~\\Anaconda3\\lib\\site-packages\\numpy\\lib\\_datasource.py\u001b[0m in \u001b[0;36mopen\u001b[1;34m(self, path, mode, encoding, newline)\u001b[0m\n\u001b[0;32m    529\u001b[0m                                       encoding=encoding, newline=newline)\n\u001b[0;32m    530\u001b[0m         \u001b[1;32melse\u001b[0m\u001b[1;33m:\u001b[0m\u001b[1;33m\u001b[0m\u001b[1;33m\u001b[0m\u001b[0m\n\u001b[1;32m--> 531\u001b[1;33m             \u001b[1;32mraise\u001b[0m \u001b[0mIOError\u001b[0m\u001b[1;33m(\u001b[0m\u001b[1;34m\"%s not found.\"\u001b[0m \u001b[1;33m%\u001b[0m \u001b[0mpath\u001b[0m\u001b[1;33m)\u001b[0m\u001b[1;33m\u001b[0m\u001b[1;33m\u001b[0m\u001b[0m\n\u001b[0m\u001b[0;32m    532\u001b[0m \u001b[1;33m\u001b[0m\u001b[0m\n\u001b[0;32m    533\u001b[0m \u001b[1;33m\u001b[0m\u001b[0m\n",
      "\u001b[1;31mOSError\u001b[0m: 1372.109985 not found."
     ]
    }
   ],
   "source": [
    "for stock in STOCKS:\n",
    "    dataset = np.genfromtxt(stock, delimiter=',')\n",
    "    predicted_stock_data = np.empty([0,dataset.shape[1]])\n",
    "    likelihood_vect = np.empty([0,1])\n",
    "    aic_vect = np.empty([0,1])\n",
    "    bic_vect = np.empty([0,1])\n",
    "    for states in STATE_SPACE:\n",
    "        num_params = states**2 + states\n",
    "        dirichlet_params_states = np.random.randint(1,50,states)\n",
    "        #model = hmm.GaussianHMM(n_components=states, covariance_type='full', startprob_prior=dirichlet_params_states, transmat_prior=dirichlet_params_states, tol=0.0001, n_iter=NUM_ITERS, init_params='mc')\n",
    "        model = hmm.GaussianHMM(n_components=states, covariance_type='full', tol=0.0001, n_iter=NUM_ITERS)\n",
    "        model.fit(dataset[NUM_TEST:,:])\n",
    "        if model.monitor_.iter == NUM_ITERS:\n",
    "            print('Increase number of iterations')\n",
    "            sys.exit(1)\n",
    "        likelihood_vect = np.vstack((likelihood_vect, model.score(dataset)))\n",
    "        aic_vect = np.vstack((aic_vect, -2 * model.score(dataset) + 2 * num_params))\n",
    "        bic_vect = np.vstack((bic_vect, -2 * model.score(dataset) +  num_params * np.log(dataset.shape[0])))\n",
    "    \n",
    "    opt_states = np.argmin(bic_vect) + 2\n",
    "    print('Optimum number of states are {}'.format(opt_states))"
   ]
  },
  {
   "cell_type": "code",
   "execution_count": 79,
   "id": "7f37fe94",
   "metadata": {
    "scrolled": false
   },
   "outputs": [
    {
     "ename": "IndexError",
     "evalue": "too many indices for array: array is 1-dimensional, but 2 were indexed",
     "output_type": "error",
     "traceback": [
      "\u001b[1;31m---------------------------------------------------------------------------\u001b[0m",
      "\u001b[1;31mIndexError\u001b[0m                                Traceback (most recent call last)",
      "\u001b[1;32mC:\\Users\\PROMA~1.GUP\\AppData\\Local\\Temp/ipykernel_14480/3440727791.py\u001b[0m in \u001b[0;36m<module>\u001b[1;34m\u001b[0m\n\u001b[0;32m      1\u001b[0m \u001b[1;32mfor\u001b[0m \u001b[0midx\u001b[0m \u001b[1;32min\u001b[0m \u001b[0mreversed\u001b[0m\u001b[1;33m(\u001b[0m\u001b[0mrange\u001b[0m\u001b[1;33m(\u001b[0m\u001b[0mNUM_TEST\u001b[0m\u001b[1;33m)\u001b[0m\u001b[1;33m)\u001b[0m\u001b[1;33m:\u001b[0m\u001b[1;33m\u001b[0m\u001b[1;33m\u001b[0m\u001b[0m\n\u001b[1;32m----> 2\u001b[1;33m         \u001b[0mtrain_dataset\u001b[0m \u001b[1;33m=\u001b[0m \u001b[0mdataset\u001b[0m\u001b[1;33m[\u001b[0m\u001b[0midx\u001b[0m \u001b[1;33m+\u001b[0m \u001b[1;36m1\u001b[0m\u001b[1;33m:\u001b[0m\u001b[1;33m,\u001b[0m\u001b[1;33m:\u001b[0m\u001b[1;33m]\u001b[0m\u001b[1;33m\u001b[0m\u001b[1;33m\u001b[0m\u001b[0m\n\u001b[0m\u001b[0;32m      3\u001b[0m         \u001b[0mtest_data\u001b[0m \u001b[1;33m=\u001b[0m \u001b[0mdataset\u001b[0m\u001b[1;33m[\u001b[0m\u001b[0midx\u001b[0m\u001b[1;33m,\u001b[0m\u001b[1;33m:\u001b[0m\u001b[1;33m]\u001b[0m\u001b[1;33m;\u001b[0m\u001b[1;33m\u001b[0m\u001b[1;33m\u001b[0m\u001b[0m\n\u001b[0;32m      4\u001b[0m         \u001b[0mnum_examples\u001b[0m \u001b[1;33m=\u001b[0m \u001b[0mtrain_dataset\u001b[0m\u001b[1;33m.\u001b[0m\u001b[0mshape\u001b[0m\u001b[1;33m[\u001b[0m\u001b[1;36m0\u001b[0m\u001b[1;33m]\u001b[0m\u001b[1;33m\u001b[0m\u001b[1;33m\u001b[0m\u001b[0m\n\u001b[0;32m      5\u001b[0m         \u001b[1;31m#model = hmm.GaussianHMM(n_components=opt_states, covariance_type='full', startprob_prior=dirichlet_params, transmat_prior=dirichlet_params, tol=0.0001, n_iter=NUM_ITERS, init_params='mc')\u001b[0m\u001b[1;33m\u001b[0m\u001b[1;33m\u001b[0m\u001b[1;33m\u001b[0m\u001b[0m\n",
      "\u001b[1;31mIndexError\u001b[0m: too many indices for array: array is 1-dimensional, but 2 were indexed"
     ]
    }
   ],
   "source": [
    "for idx in reversed(range(NUM_TEST)):\n",
    "        train_dataset = dataset[idx + 1:,:]\n",
    "        test_data = dataset[idx,:]; \n",
    "        num_examples = train_dataset.shape[0]\n",
    "        #model = hmm.GaussianHMM(n_components=opt_states, covariance_type='full', startprob_prior=dirichlet_params, transmat_prior=dirichlet_params, tol=0.0001, n_iter=NUM_ITERS, init_params='mc')\n",
    "        if idx == NUM_TEST - 1:\n",
    "            model = hmm.GaussianHMM(n_components=opt_states, covariance_type='full', tol=0.0001, n_iter=NUM_ITERS, init_params='stmc')\n",
    "        else:\n",
    "            # Retune the model by using the HMM paramters from the previous iterations as the prior\n",
    "            model = hmm.GaussianHMM(n_components=opt_states, covariance_type='full', tol=0.0001, n_iter=NUM_ITERS, init_params='')\n",
    "            model.transmat_ = transmat_retune_prior \n",
    "            model.startprob_ = startprob_retune_prior\n",
    "            model.means_ = means_retune_prior\n",
    "            model.covars_ = covars_retune_prior\n",
    "\n",
    "        model.fit(np.flipud(train_dataset))\n",
    "\n",
    "        transmat_retune_prior = model.transmat_\n",
    "        startprob_retune_prior = model.startprob_\n",
    "        means_retune_prior = model.means_\n",
    "        covars_retune_prior = model.covars_\n",
    "\n",
    "        if model.monitor_.iter == NUM_ITERS:\n",
    "            print('Increase number of iterations')\n",
    "            sys.exit(1)\n",
    "        print('Model score : ', model.score(dataset))\n",
    "        print('Dirichlet parameters : ',dirichlet_params)\n",
    "        \n",
    "        iters = 1;\n",
    "        past_likelihood = []\n",
    "        curr_likelihood = model.score(np.flipud(train_dataset[0:K - 1, :]))\n",
    "        while iters < num_examples / K - 1:\n",
    "            past_likelihood = np.append(past_likelihood, model.score(np.flipud(train_dataset[iters:iters + K - 1, :])))\n",
    "            iters = iters + 1\n",
    "        likelihood_diff_idx = np.argmin(np.absolute(past_likelihood - curr_likelihood))\n",
    "        predicted_change = train_dataset[likelihood_diff_idx,:] - train_dataset[likelihood_diff_idx + 1,:]\n",
    "        predicted_stock_data = np.vstack((predicted_stock_data, dataset[idx + 1,:] + predicted_change))\n",
    "np.savetxt('{}_forecast.csv'.format(stock),predicted_stock_data,delimiter=',',fmt='%.2f')\n",
    "\n",
    "mape = calc_mape(predicted_stock_data, np.flipud(dataset[range(100),:]))\n",
    "print('MAPE for the stock {} is '.format(stock),mape)\n",
    "\n",
    "if PLOT_TYPE:\n",
    "    hdl_p = plt.plot(range(100), predicted_stock_data);\n",
    "    plt.title('Predicted stock prices')\n",
    "    plt.legend(iter(hdl_p), ('Close','Open','High','Low'))\n",
    "    plt.xlabel('Time steps')\n",
    "    plt.ylabel('Price')\n",
    "    plt.figure()\n",
    "    hdl_a = plt.plot(range(100),np.flipud(dataset[range(100),:]))\n",
    "    plt.title('Actual stock prices')\n",
    "    plt.legend(iter(hdl_p), ('Close','Open','High','Low'))\n",
    "    plt.xlabel('Time steps')\n",
    "    plt.ylabel('Price')\n",
    "else:\n",
    "    for i in range(4):\n",
    "        plt.figure()\n",
    "        plt.plot(range(100), predicted_stock_data[:,i],'k-', label = 'Predicted '+labels[i]+' price');\n",
    "        plt.plot(range(100),np.flipud(dataset[range(100),i]),'r--', label = 'Actual '+labels[i]+' price')\n",
    "        plt.xlabel('Time steps')\n",
    "        plt.ylabel('Price')\n",
    "        plt.title(labels[i]+' price'+ ' for '+stock[:-4])\n",
    "        plt.grid(True)\n",
    "        plt.legend(loc = 'upper left')\n",
    "        \n",
    "\n",
    "if PLOT_SHOW:\n",
    "    plt.show(block=False)"
   ]
  },
  {
   "cell_type": "code",
   "execution_count": 80,
   "id": "848b48cd",
   "metadata": {},
   "outputs": [
    {
     "name": "stdout",
     "output_type": "stream",
     "text": [
      "MAPE for the stock 1372.109985 is  [0.00862423 0.00930183 0.00812473 0.00791728]\n"
     ]
    }
   ],
   "source": [
    "print('MAPE for the stock {} is '.format(stock),mape)"
   ]
  },
  {
   "cell_type": "code",
   "execution_count": 81,
   "id": "797b1119",
   "metadata": {},
   "outputs": [
    {
     "name": "stdout",
     "output_type": "stream",
     "text": [
      "MAPE for the stock 1372.109985 is  [0.00862423 0.00930183 0.00812473 0.00791728]\n"
     ]
    }
   ],
   "source": [
    "print('MAPE for the stock {} is '.format(stock),mape)"
   ]
  },
  {
   "cell_type": "code",
   "execution_count": null,
   "id": "e1965eb0",
   "metadata": {},
   "outputs": [],
   "source": []
  }
 ],
 "metadata": {
  "kernelspec": {
   "display_name": "Python 3 (ipykernel)",
   "language": "python",
   "name": "python3"
  },
  "language_info": {
   "codemirror_mode": {
    "name": "ipython",
    "version": 3
   },
   "file_extension": ".py",
   "mimetype": "text/x-python",
   "name": "python",
   "nbconvert_exporter": "python",
   "pygments_lexer": "ipython3",
   "version": "3.8.12"
  }
 },
 "nbformat": 4,
 "nbformat_minor": 5
}
